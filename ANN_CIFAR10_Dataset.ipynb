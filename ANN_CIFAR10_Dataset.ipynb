{
  "cells": [
    {
      "cell_type": "markdown",
      "metadata": {
        "id": "view-in-github",
        "colab_type": "text"
      },
      "source": [
        "<a href=\"https://colab.research.google.com/github/SireeshaM6/Advanced_House_Dataset/blob/main/ANN_CIFAR10_Dataset.ipynb\" target=\"_parent\"><img src=\"https://colab.research.google.com/assets/colab-badge.svg\" alt=\"Open In Colab\"/></a>"
      ]
    },
    {
      "cell_type": "code",
      "execution_count": null,
      "metadata": {
        "id": "iaLMC8aIT2OC"
      },
      "outputs": [],
      "source": [
        "import numpy as np\n",
        "import matplotlib.pyplot as plt\n",
        "import tensorflow as tf\n",
        "from sklearn.metrics import confusion_matrix\n",
        "import itertools\n",
        "from tensorflow.keras.layers import Flatten"
      ]
    },
    {
      "cell_type": "code",
      "execution_count": null,
      "metadata": {
        "id": "YOU1Pod9UPLG"
      },
      "outputs": [],
      "source": [
        "cifar10 = tf.keras.datasets.cifar10"
      ]
    },
    {
      "cell_type": "code",
      "execution_count": null,
      "metadata": {
        "colab": {
          "base_uri": "https://localhost:8080/"
        },
        "id": "46CbQ9-KUTJh",
        "outputId": "691c12d6-cc46-4156-de38-049330d163c6"
      },
      "outputs": [
        {
          "name": "stdout",
          "output_type": "stream",
          "text": [
            "Downloading data from https://www.cs.toronto.edu/~kriz/cifar-10-python.tar.gz\n",
            "170498071/170498071 [==============================] - 2s 0us/step\n"
          ]
        }
      ],
      "source": [
        "(x_train,y_train),(x_test,y_test) = cifar10.load_data()"
      ]
    },
    {
      "cell_type": "code",
      "execution_count": null,
      "metadata": {
        "colab": {
          "base_uri": "https://localhost:8080/"
        },
        "id": "-oHPL27DUddo",
        "outputId": "b09d2768-a5b1-429c-aeb9-cd243832a836"
      },
      "outputs": [
        {
          "data": {
            "text/plain": [
              "(50000, 32, 32, 3)"
            ]
          },
          "execution_count": 4,
          "metadata": {},
          "output_type": "execute_result"
        }
      ],
      "source": [
        "x_train.shape"
      ]
    },
    {
      "cell_type": "code",
      "execution_count": null,
      "metadata": {
        "colab": {
          "base_uri": "https://localhost:8080/"
        },
        "id": "f7do2CWwUipm",
        "outputId": "49aabbac-95e8-48d0-b9e8-50bc53e1f926"
      },
      "outputs": [
        {
          "data": {
            "text/plain": [
              "(10000, 32, 32, 3)"
            ]
          },
          "execution_count": 5,
          "metadata": {},
          "output_type": "execute_result"
        }
      ],
      "source": [
        "x_test.shape"
      ]
    },
    {
      "cell_type": "code",
      "execution_count": null,
      "metadata": {
        "colab": {
          "base_uri": "https://localhost:8080/"
        },
        "id": "X_qHKuWRVu_V",
        "outputId": "f1a09034-1890-467f-a58c-a1fb9c61c189"
      },
      "outputs": [
        {
          "data": {
            "text/plain": [
              "(50000, 1)"
            ]
          },
          "execution_count": 9,
          "metadata": {},
          "output_type": "execute_result"
        }
      ],
      "source": [
        "y_train.shape"
      ]
    },
    {
      "cell_type": "code",
      "execution_count": null,
      "metadata": {
        "colab": {
          "base_uri": "https://localhost:8080/"
        },
        "id": "JLL8WHU0V61B",
        "outputId": "09623e63-ceca-4bac-e991-00c1eb31e668"
      },
      "outputs": [
        {
          "data": {
            "text/plain": [
              "(10000, 1)"
            ]
          },
          "execution_count": 10,
          "metadata": {},
          "output_type": "execute_result"
        }
      ],
      "source": [
        "y_test.shape"
      ]
    },
    {
      "cell_type": "code",
      "execution_count": null,
      "metadata": {
        "id": "zs422o5qWMEa"
      },
      "outputs": [],
      "source": [
        "# How to find how many classes are there in the dataset\n",
        "# It has 10 classes from the documentation"
      ]
    },
    {
      "cell_type": "code",
      "execution_count": null,
      "metadata": {
        "colab": {
          "base_uri": "https://localhost:8080/"
        },
        "id": "EBWU8WwnchyW",
        "outputId": "0af0b462-f3d3-4597-d219-58a8e44983d2"
      },
      "outputs": [
        {
          "name": "stdout",
          "output_type": "stream",
          "text": [
            "Number of classes in the CIFAR10:  10\n"
          ]
        }
      ],
      "source": [
        "noOfClasses = len(set(y_train))\n",
        "print('Number of classes in the CIFAR10: ',noOfClasses)"
      ]
    },
    {
      "cell_type": "markdown",
      "metadata": {
        "id": "hEQGdBDrUmXF"
      },
      "source": [
        "# Conclusions:                                                       \n",
        "X_train : 50000 images                                                     \n",
        "X_test  : 10000 images\n",
        "\n",
        "3 represents : Dataset has colored images\n",
        "\n",
        "Image size = 32(Height) * 32 (Width)"
      ]
    },
    {
      "cell_type": "code",
      "execution_count": null,
      "metadata": {
        "colab": {
          "base_uri": "https://localhost:8080/"
        },
        "id": "DD6cIV4vVVt7",
        "outputId": "11b6c88b-d9d5-4dd2-916e-57838b21dd2f"
      },
      "outputs": [
        {
          "data": {
            "text/plain": [
              "(32, 32, 3)"
            ]
          },
          "execution_count": 6,
          "metadata": {},
          "output_type": "execute_result"
        }
      ],
      "source": [
        "x_train[0].shape"
      ]
    },
    {
      "cell_type": "code",
      "execution_count": null,
      "metadata": {
        "id": "oCcj4uIgVGrT"
      },
      "outputs": [],
      "source": [
        "x_train[0]"
      ]
    },
    {
      "cell_type": "code",
      "execution_count": null,
      "metadata": {
        "colab": {
          "base_uri": "https://localhost:8080/",
          "height": 266
        },
        "id": "VIjZuMFiVDwb",
        "outputId": "794a72e4-4329-4ae5-80e3-e678b3a6bb65"
      },
      "outputs": [
        {
          "data": {
            "image/png": "[encoded data removed]",
            "text/plain": [
              "<Figure size 432x288 with 1 Axes>"
            ]
          },
          "metadata": {},
          "output_type": "display_data"
        }
      ],
      "source": [
        "plt.imshow(x_train[1])\n",
        "plt.show()"
      ]
    },
    {
      "cell_type": "markdown",
      "metadata": {
        "id": "8Nwez2VNXOPy"
      },
      "source": [
        "0: airplane\n",
        "\n",
        "1: automobile\n",
        "\n",
        "2: bird\n",
        "\n",
        "3: cat\n",
        "\n",
        "4: deer\n",
        "\n",
        "5: dog\n",
        "\n",
        "6: frog\n",
        "\n",
        "7: horse\n",
        "\n",
        "8: ship\n",
        "\n",
        "9: truck"
      ]
    },
    {
      "cell_type": "code",
      "execution_count": null,
      "metadata": {
        "colab": {
          "base_uri": "https://localhost:8080/",
          "height": 266
        },
        "id": "h0KET0NLXkY8",
        "outputId": "f2189172-1fdb-415b-f001-a7976c85c400"
      },
      "outputs": [
        {
          "data": {
            "image/png": "[encoded data removed]",
            "text/plain": [
              "<Figure size 432x288 with 1 Axes>"
            ]
          },
          "metadata": {},
          "output_type": "display_data"
        }
      ],
      "source": [
        "plt.imshow(x_train[9898])\n",
        "plt.show()"
      ]
    },
    {
      "cell_type": "code",
      "execution_count": null,
      "metadata": {
        "colab": {
          "base_uri": "https://localhost:8080/"
        },
        "id": "xZtP9UCbXemU",
        "outputId": "61896ecf-f04c-48c2-ec09-7dbbddc2f8ef"
      },
      "outputs": [
        {
          "data": {
            "text/plain": [
              "1"
            ]
          },
          "execution_count": 17,
          "metadata": {},
          "output_type": "execute_result"
        }
      ],
      "source": [
        "y_train[9898][0]"
      ]
    },
    {
      "cell_type": "code",
      "execution_count": null,
      "metadata": {
        "colab": {
          "base_uri": "https://localhost:8080/"
        },
        "id": "4Y7734pxVryj",
        "outputId": "7b54e538-f712-4b06-adf9-a0590fd8719b"
      },
      "outputs": [
        {
          "data": {
            "text/plain": [
              "9"
            ]
          },
          "execution_count": 16,
          "metadata": {},
          "output_type": "execute_result"
        }
      ],
      "source": [
        "y_train[1][0]"
      ]
    },
    {
      "cell_type": "code",
      "execution_count": null,
      "metadata": {
        "colab": {
          "base_uri": "https://localhost:8080/",
          "height": 266
        },
        "id": "JsJ79O1fYcx8",
        "outputId": "732b6618-3da5-49f9-8ecc-1903e0ec9414"
      },
      "outputs": [
        {
          "data": {
            "image/png": "[encoded data removed]",
            "text/plain": [
              "<Figure size 432x288 with 1 Axes>"
            ]
          },
          "metadata": {},
          "output_type": "display_data"
        }
      ],
      "source": [
        "plt.imshow(x_train[9800],cmap='gray')\n",
        "plt.show()"
      ]
    },
    {
      "cell_type": "code",
      "execution_count": null,
      "metadata": {
        "colab": {
          "base_uri": "https://localhost:8080/"
        },
        "id": "n1ZY0PllYhnW",
        "outputId": "6a5bb43d-1263-457d-943a-786b0252f295"
      },
      "outputs": [
        {
          "data": {
            "text/plain": [
              "0"
            ]
          },
          "execution_count": 20,
          "metadata": {},
          "output_type": "execute_result"
        }
      ],
      "source": [
        "y_train[9890][0]"
      ]
    },
    {
      "cell_type": "markdown",
      "metadata": {
        "id": "2moFjflCYpj0"
      },
      "source": [
        "# Scaling of the Dataset"
      ]
    },
    {
      "cell_type": "code",
      "execution_count": null,
      "metadata": {
        "id": "s0XgLw78Ytmy"
      },
      "outputs": [],
      "source": [
        "# Since we can't pass the large values (0-255) to Neural Network, we need to scale. We can do scaling in different ways by centering the values to 0 to 1.\n",
        "# Now, the x values are between 0 to 1.\n",
        "\n",
        "x_train,x_test = x_train/255.0, x_test/255.0"
      ]
    },
    {
      "cell_type": "code",
      "execution_count": null,
      "metadata": {
        "colab": {
          "base_uri": "https://localhost:8080/"
        },
        "id": "Snbf5GRlYySK",
        "outputId": "e4a720b2-5fac-400c-92ec-81c2552fbdf7"
      },
      "outputs": [
        {
          "data": {
            "text/plain": [
              "array([[[0.23137255, 0.24313725, 0.24705882],\n",
              "        [0.16862745, 0.18039216, 0.17647059],\n",
              "        [0.19607843, 0.18823529, 0.16862745],\n",
              "        ...,\n",
              "        [0.61960784, 0.51764706, 0.42352941],\n",
              "        [0.59607843, 0.49019608, 0.4       ],\n",
              "        [0.58039216, 0.48627451, 0.40392157]],\n",
              "\n",
              "       [[0.0627451 , 0.07843137, 0.07843137],\n",
              "        [0.        , 0.        , 0.        ],\n",
              "        [0.07058824, 0.03137255, 0.        ],\n",
              "        ...,\n",
              "        [0.48235294, 0.34509804, 0.21568627],\n",
              "        [0.46666667, 0.3254902 , 0.19607843],\n",
              "        [0.47843137, 0.34117647, 0.22352941]],\n",
              "\n",
              "       [[0.09803922, 0.09411765, 0.08235294],\n",
              "        [0.0627451 , 0.02745098, 0.        ],\n",
              "        [0.19215686, 0.10588235, 0.03137255],\n",
              "        ...,\n",
              "        [0.4627451 , 0.32941176, 0.19607843],\n",
              "        [0.47058824, 0.32941176, 0.19607843],\n",
              "        [0.42745098, 0.28627451, 0.16470588]],\n",
              "\n",
              "       ...,\n",
              "\n",
              "       [[0.81568627, 0.66666667, 0.37647059],\n",
              "        [0.78823529, 0.6       , 0.13333333],\n",
              "        [0.77647059, 0.63137255, 0.10196078],\n",
              "        ...,\n",
              "        [0.62745098, 0.52156863, 0.2745098 ],\n",
              "        [0.21960784, 0.12156863, 0.02745098],\n",
              "        [0.20784314, 0.13333333, 0.07843137]],\n",
              "\n",
              "       [[0.70588235, 0.54509804, 0.37647059],\n",
              "        [0.67843137, 0.48235294, 0.16470588],\n",
              "        [0.72941176, 0.56470588, 0.11764706],\n",
              "        ...,\n",
              "        [0.72156863, 0.58039216, 0.36862745],\n",
              "        [0.38039216, 0.24313725, 0.13333333],\n",
              "        [0.3254902 , 0.20784314, 0.13333333]],\n",
              "\n",
              "       [[0.69411765, 0.56470588, 0.45490196],\n",
              "        [0.65882353, 0.50588235, 0.36862745],\n",
              "        [0.70196078, 0.55686275, 0.34117647],\n",
              "        ...,\n",
              "        [0.84705882, 0.72156863, 0.54901961],\n",
              "        [0.59215686, 0.4627451 , 0.32941176],\n",
              "        [0.48235294, 0.36078431, 0.28235294]]])"
            ]
          },
          "execution_count": 22,
          "metadata": {},
          "output_type": "execute_result"
        }
      ],
      "source": [
        "x_train[0]"
      ]
    },
    {
      "cell_type": "code",
      "execution_count": null,
      "metadata": {
        "colab": {
          "base_uri": "https://localhost:8080/"
        },
        "id": "b1Ndzs8fY03n",
        "outputId": "4e8a8474-b7a1-42c0-d74a-ed87750ae9e5"
      },
      "outputs": [
        {
          "data": {
            "text/plain": [
              "(32, 32, 3)"
            ]
          },
          "execution_count": 23,
          "metadata": {},
          "output_type": "execute_result"
        }
      ],
      "source": [
        "x_train[0].shape"
      ]
    },
    {
      "cell_type": "markdown",
      "metadata": {
        "id": "RsZahTvbZPPN"
      },
      "source": [
        "**Model Building**"
      ]
    },
    {
      "cell_type": "code",
      "execution_count": null,
      "metadata": {
        "id": "sgOvFl9UZREy"
      },
      "outputs": [],
      "source": [
        "# Checking how flatten works\n",
        "\n",
        "data = Flatten()(x_train)"
      ]
    },
    {
      "cell_type": "code",
      "execution_count": null,
      "metadata": {
        "colab": {
          "base_uri": "https://localhost:8080/"
        },
        "id": "K-MiT7BjZkai",
        "outputId": "838344dd-81ed-45d8-e846-7a133c249373"
      },
      "outputs": [
        {
          "data": {
            "text/plain": [
              "TensorShape([50000, 3072])"
            ]
          },
          "execution_count": 28,
          "metadata": {},
          "output_type": "execute_result"
        }
      ],
      "source": [
        "data.shape"
      ]
    },
    {
      "cell_type": "code",
      "execution_count": null,
      "metadata": {
        "colab": {
          "base_uri": "https://localhost:8080/"
        },
        "id": "fwx2jWRcdJmQ",
        "outputId": "f325e32b-4777-4479-d599-9c7bd6a91481"
      },
      "outputs": [
        {
          "data": {
            "text/plain": [
              "(32, 32, 3)"
            ]
          },
          "execution_count": 37,
          "metadata": {},
          "output_type": "execute_result"
        }
      ],
      "source": [
        "x_train[0].shape"
      ]
    },
    {
      "cell_type": "code",
      "execution_count": null,
      "metadata": {
        "id": "K4qxE5SmZpLb"
      },
      "outputs": [],
      "source": [
        "model = tf.keras.models.Sequential([\n",
        "    tf.keras.layers.Flatten(input_shape=x_train[0].shape),\n",
        "    tf.keras.layers.Dense(128,activation='relu'),\n",
        "     tf.keras.layers.Dense(256,activation='relu'),\n",
        "     tf.keras.layers.Dense(512,activation='relu'),\n",
        "    tf.keras.layers.Dropout(0.2),\n",
        "    tf.keras.layers.Dense(noOfClasses,activation='softmax')\n",
        "\n",
        "])"
      ]
    },
    {
      "cell_type": "code",
      "execution_count": null,
      "metadata": {
        "id": "V-OKB4FJY-Cc"
      },
      "outputs": [],
      "source": [
        "model.compile(optimizer = 'adam',loss='sparse_categorical_crossentropy',metrics=['accuracy'])"
      ]
    },
    {
      "cell_type": "code",
      "execution_count": null,
      "metadata": {
        "colab": {
          "base_uri": "https://localhost:8080/"
        },
        "id": "awml0vqIbxen",
        "outputId": "5834b527-c79a-44e8-e2ea-5656e66cb446"
      },
      "outputs": [
        {
          "data": {
            "text/plain": [
              "(50000,)"
            ]
          },
          "execution_count": 51,
          "metadata": {},
          "output_type": "execute_result"
        }
      ],
      "source": [
        "y_train.shape"
      ]
    },
    {
      "cell_type": "markdown",
      "metadata": {
        "id": "WLekTtkxbtEY"
      },
      "source": [
        "We will get while the y_train and y_test values to the fit model because of the below reason.\n",
        "\n",
        "# Also note over here that the targets are 2d array N X 1 instead of N.\n",
        "# Therefore, we need to flatten them"
      ]
    },
    {
      "cell_type": "code",
      "execution_count": null,
      "metadata": {
        "colab": {
          "base_uri": "https://localhost:8080/"
        },
        "id": "1GcJdHKxbt_U",
        "outputId": "629ade82-2a28-42f8-8085-f2ba87dacd9a"
      },
      "outputs": [
        {
          "name": "stdout",
          "output_type": "stream",
          "text": [
            "(50000,) (10000,)\n"
          ]
        }
      ],
      "source": [
        "y_train,y_test = y_train.flatten(),y_test.flatten()\n",
        "print(y_train.shape,y_test.shape)"
      ]
    },
    {
      "cell_type": "code",
      "execution_count": null,
      "metadata": {
        "colab": {
          "background_save": true,
          "base_uri": "https://localhost:8080/"
        },
        "id": "zcr-7OAWafVw",
        "outputId": "4e9a25d2-5643-42fc-e324-345e44b2a428"
      },
      "outputs": [
        {
          "name": "stdout",
          "output_type": "stream",
          "text": [
            "Epoch 1/100\n",
            "1563/1563 [==============================] - 335s 213ms/step - loss: 2.0887 - accuracy: 0.1831 - val_loss: 2.0363 - val_accuracy: 0.1994\n",
            "Epoch 2/100\n",
            "1563/1563 [==============================] - 323s 207ms/step - loss: 2.0532 - accuracy: 0.1950 - val_loss: 2.0377 - val_accuracy: 0.1993\n",
            "Epoch 3/100\n",
            "1563/1563 [==============================] - 333s 213ms/step - loss: 2.0446 - accuracy: 0.2011 - val_loss: 2.0690 - val_accuracy: 0.1962\n",
            "Epoch 4/100\n",
            "1563/1563 [==============================] - 327s 209ms/step - loss: 2.0389 - accuracy: 0.2018 - val_loss: 2.0350 - val_accuracy: 0.2041\n",
            "Epoch 5/100\n",
            "1563/1563 [==============================] - 338s 216ms/step - loss: 2.0370 - accuracy: 0.2035 - val_loss: 2.0214 - val_accuracy: 0.2043\n",
            "Epoch 6/100\n",
            "1563/1563 [==============================] - 335s 214ms/step - loss: 2.0345 - accuracy: 0.2042 - val_loss: 2.0228 - val_accuracy: 0.2084\n",
            "Epoch 7/100\n",
            "1563/1563 [==============================] - 339s 217ms/step - loss: 2.0329 - accuracy: 0.2048 - val_loss: 2.0323 - val_accuracy: 0.2048\n",
            "Epoch 8/100\n",
            "1563/1563 [==============================] - 340s 217ms/step - loss: 2.0373 - accuracy: 0.2017 - val_loss: 2.0251 - val_accuracy: 0.2082\n",
            "Epoch 9/100\n",
            "1563/1563 [==============================] - 321s 205ms/step - loss: 2.0322 - accuracy: 0.2061 - val_loss: 2.0205 - val_accuracy: 0.2062\n",
            "Epoch 10/100\n",
            "1563/1563 [==============================] - 334s 214ms/step - loss: 2.0297 - accuracy: 0.2057 - val_loss: 2.0211 - val_accuracy: 0.2064\n",
            "Epoch 11/100\n",
            "1563/1563 [==============================] - 328s 210ms/step - loss: 2.0298 - accuracy: 0.2050 - val_loss: 2.0272 - val_accuracy: 0.2066\n",
            "Epoch 12/100\n",
            "1563/1563 [==============================] - 340s 217ms/step - loss: 2.0352 - accuracy: 0.2055 - val_loss: 2.0272 - val_accuracy: 0.2074\n",
            "Epoch 13/100\n",
            "1563/1563 [==============================] - 333s 213ms/step - loss: 2.0290 - accuracy: 0.2061 - val_loss: 2.0298 - val_accuracy: 0.2049\n",
            "Epoch 14/100\n",
            "1563/1563 [==============================] - 338s 216ms/step - loss: 2.0276 - accuracy: 0.2045 - val_loss: 2.0147 - val_accuracy: 0.2025\n",
            "Epoch 15/100\n",
            "1563/1563 [==============================] - 328s 210ms/step - loss: 2.0290 - accuracy: 0.2047 - val_loss: 2.0217 - val_accuracy: 0.2088\n",
            "Epoch 16/100\n",
            "1563/1563 [==============================] - 335s 215ms/step - loss: 2.0287 - accuracy: 0.2044 - val_loss: 2.0214 - val_accuracy: 0.2045\n",
            "Epoch 17/100\n",
            "1563/1563 [==============================] - 330s 211ms/step - loss: 2.0250 - accuracy: 0.2072 - val_loss: 2.0208 - val_accuracy: 0.2049\n",
            "Epoch 18/100\n",
            "1563/1563 [==============================] - 334s 214ms/step - loss: 2.0250 - accuracy: 0.2052 - val_loss: 2.0160 - val_accuracy: 0.2098\n",
            "Epoch 19/100\n",
            "1563/1563 [==============================] - 338s 216ms/step - loss: 2.0282 - accuracy: 0.2053 - val_loss: 2.0157 - val_accuracy: 0.2054\n",
            "Epoch 20/100\n",
            "1563/1563 [==============================] - 330s 211ms/step - loss: 2.0239 - accuracy: 0.2073 - val_loss: 2.0273 - val_accuracy: 0.2091\n",
            "Epoch 21/100\n",
            "1563/1563 [==============================] - 334s 214ms/step - loss: 2.0259 - accuracy: 0.2081 - val_loss: 2.0140 - val_accuracy: 0.2109\n",
            "Epoch 22/100\n",
            "1563/1563 [==============================] - 325s 208ms/step - loss: 2.0279 - accuracy: 0.2051 - val_loss: 2.0310 - val_accuracy: 0.2047\n",
            "Epoch 23/100\n",
            "1563/1563 [==============================] - 332s 213ms/step - loss: 2.0252 - accuracy: 0.2082 - val_loss: 2.0181 - val_accuracy: 0.2114\n",
            "Epoch 24/100\n",
            "1563/1563 [==============================] - 327s 209ms/step - loss: 2.0240 - accuracy: 0.2062 - val_loss: 2.0224 - val_accuracy: 0.2058\n",
            "Epoch 25/100\n",
            "1563/1563 [==============================] - 338s 216ms/step - loss: 2.0258 - accuracy: 0.2059 - val_loss: 2.0186 - val_accuracy: 0.2101\n",
            "Epoch 26/100\n",
            "1563/1563 [==============================] - 326s 209ms/step - loss: 2.0219 - accuracy: 0.2079 - val_loss: 2.0198 - val_accuracy: 0.2074\n",
            "Epoch 27/100\n",
            "1563/1563 [==============================] - 336s 215ms/step - loss: 2.0257 - accuracy: 0.2089 - val_loss: 2.0247 - val_accuracy: 0.2090\n",
            "Epoch 28/100\n",
            "1563/1563 [==============================] - 325s 208ms/step - loss: 2.0240 - accuracy: 0.2088 - val_loss: 2.0176 - val_accuracy: 0.2069\n",
            "Epoch 29/100\n",
            "1563/1563 [==============================] - 334s 214ms/step - loss: 2.0244 - accuracy: 0.2065 - val_loss: 2.0227 - val_accuracy: 0.2046\n",
            "Epoch 30/100\n",
            "1563/1563 [==============================] - 328s 210ms/step - loss: 2.0240 - accuracy: 0.2075 - val_loss: 2.0202 - val_accuracy: 0.2125\n",
            "Epoch 31/100\n",
            "1563/1563 [==============================] - 325s 207ms/step - loss: 2.0210 - accuracy: 0.2075 - val_loss: 2.0238 - val_accuracy: 0.2059\n",
            "Epoch 32/100\n",
            "1563/1563 [==============================] - 325s 208ms/step - loss: 2.0231 - accuracy: 0.2070 - val_loss: 2.0178 - val_accuracy: 0.2100\n",
            "Epoch 33/100\n",
            "1563/1563 [==============================] - 327s 209ms/step - loss: 2.0240 - accuracy: 0.2056 - val_loss: 2.0156 - val_accuracy: 0.2129\n",
            "Epoch 34/100\n",
            "1563/1563 [==============================] - 323s 206ms/step - loss: 2.0263 - accuracy: 0.2058 - val_loss: 2.0149 - val_accuracy: 0.2068\n",
            "Epoch 35/100\n",
            "1563/1563 [==============================] - 317s 203ms/step - loss: 2.0213 - accuracy: 0.2074 - val_loss: 2.0183 - val_accuracy: 0.2090\n",
            "Epoch 36/100\n",
            "1563/1563 [==============================] - 318s 203ms/step - loss: 2.0313 - accuracy: 0.2074 - val_loss: 2.0148 - val_accuracy: 0.2124\n",
            "Epoch 37/100\n",
            "1563/1563 [==============================] - 316s 202ms/step - loss: 2.0230 - accuracy: 0.2066 - val_loss: 2.0219 - val_accuracy: 0.2103\n",
            "Epoch 38/100\n",
            "1563/1563 [==============================] - 315s 202ms/step - loss: 2.0235 - accuracy: 0.2085 - val_loss: 2.0167 - val_accuracy: 0.2067\n",
            "Epoch 39/100\n",
            "1563/1563 [==============================] - 312s 200ms/step - loss: 2.0224 - accuracy: 0.2084 - val_loss: 2.0187 - val_accuracy: 0.2074\n",
            "Epoch 40/100\n",
            "1563/1563 [==============================] - 312s 200ms/step - loss: 2.0248 - accuracy: 0.2075 - val_loss: 2.0144 - val_accuracy: 0.2060\n",
            "Epoch 41/100\n",
            "1563/1563 [==============================] - 312s 200ms/step - loss: 2.0213 - accuracy: 0.2077 - val_loss: 2.0161 - val_accuracy: 0.2085\n",
            "Epoch 42/100\n",
            "1563/1563 [==============================] - 312s 200ms/step - loss: 2.0209 - accuracy: 0.2072 - val_loss: 2.0196 - val_accuracy: 0.2092\n",
            "Epoch 43/100\n",
            "1563/1563 [==============================] - 309s 198ms/step - loss: 2.0218 - accuracy: 0.2062 - val_loss: 2.0179 - val_accuracy: 0.2102\n",
            "Epoch 44/100\n",
            "1563/1563 [==============================] - 316s 202ms/step - loss: 2.0209 - accuracy: 0.2081 - val_loss: 2.0142 - val_accuracy: 0.2086\n",
            "Epoch 45/100\n",
            "1563/1563 [==============================] - 309s 197ms/step - loss: 2.0207 - accuracy: 0.2072 - val_loss: 2.0146 - val_accuracy: 0.2098\n",
            "Epoch 46/100\n",
            "1563/1563 [==============================] - 317s 203ms/step - loss: 2.0216 - accuracy: 0.2085 - val_loss: 2.0169 - val_accuracy: 0.2108\n",
            "Epoch 47/100\n",
            "1563/1563 [==============================] - 310s 198ms/step - loss: 2.0188 - accuracy: 0.2088 - val_loss: 2.0260 - val_accuracy: 0.2016\n",
            "Epoch 48/100\n",
            "1563/1563 [==============================] - 318s 204ms/step - loss: 2.0230 - accuracy: 0.2075 - val_loss: 2.0135 - val_accuracy: 0.2103\n",
            "Epoch 49/100\n",
            "1563/1563 [==============================] - 308s 197ms/step - loss: 2.0208 - accuracy: 0.2090 - val_loss: 2.0158 - val_accuracy: 0.2116\n",
            "Epoch 50/100\n",
            "1563/1563 [==============================] - 316s 202ms/step - loss: 2.0222 - accuracy: 0.2078 - val_loss: 2.0458 - val_accuracy: 0.2034\n",
            "Epoch 51/100\n",
            "1563/1563 [==============================] - 308s 197ms/step - loss: 2.0229 - accuracy: 0.2083 - val_loss: 2.0154 - val_accuracy: 0.2097\n",
            "Epoch 52/100\n",
            "1563/1563 [==============================] - 315s 201ms/step - loss: 2.0232 - accuracy: 0.2082 - val_loss: 2.0160 - val_accuracy: 0.2073\n",
            "Epoch 53/100\n",
            "1563/1563 [==============================] - 313s 201ms/step - loss: 2.0207 - accuracy: 0.2087 - val_loss: 2.0192 - val_accuracy: 0.2094\n",
            "Epoch 54/100\n",
            "1563/1563 [==============================] - 315s 202ms/step - loss: 2.0215 - accuracy: 0.2088 - val_loss: 2.0185 - val_accuracy: 0.2117\n",
            "Epoch 55/100\n",
            "1563/1563 [==============================] - 305s 195ms/step - loss: 2.0223 - accuracy: 0.2094 - val_loss: 2.0155 - val_accuracy: 0.2089\n",
            "Epoch 56/100\n",
            "1563/1563 [==============================] - 314s 201ms/step - loss: 2.0218 - accuracy: 0.2072 - val_loss: 2.0211 - val_accuracy: 0.2065\n",
            "Epoch 57/100\n",
            "1563/1563 [==============================] - 303s 194ms/step - loss: 2.0200 - accuracy: 0.2088 - val_loss: 2.0205 - val_accuracy: 0.2074\n",
            "Epoch 58/100\n",
            "1563/1563 [==============================] - 311s 199ms/step - loss: 2.0196 - accuracy: 0.2085 - val_loss: 2.0227 - val_accuracy: 0.2054\n",
            "Epoch 59/100\n",
            "1563/1563 [==============================] - 307s 197ms/step - loss: 2.0234 - accuracy: 0.2062 - val_loss: 2.0283 - val_accuracy: 0.2112\n",
            "Epoch 60/100\n",
            "1563/1563 [==============================] - 314s 201ms/step - loss: 2.0218 - accuracy: 0.2080 - val_loss: 2.0244 - val_accuracy: 0.2004\n",
            "Epoch 61/100\n",
            "1563/1563 [==============================] - 307s 197ms/step - loss: 2.0185 - accuracy: 0.2082 - val_loss: 2.0154 - val_accuracy: 0.2080\n",
            "Epoch 62/100\n",
            "1563/1563 [==============================] - 314s 201ms/step - loss: 2.0219 - accuracy: 0.2064 - val_loss: 2.0176 - val_accuracy: 0.2086\n",
            "Epoch 63/100\n",
            "1563/1563 [==============================] - 302s 193ms/step - loss: 2.0216 - accuracy: 0.2047 - val_loss: 2.0877 - val_accuracy: 0.1955\n",
            "Epoch 64/100\n",
            "1563/1563 [==============================] - 311s 199ms/step - loss: 2.0192 - accuracy: 0.2075 - val_loss: 2.0186 - val_accuracy: 0.2099\n",
            "Epoch 65/100\n",
            "1563/1563 [==============================] - 305s 195ms/step - loss: 2.0262 - accuracy: 0.2063 - val_loss: 2.0283 - val_accuracy: 0.2038\n",
            "Epoch 66/100\n",
            "1563/1563 [==============================] - 314s 201ms/step - loss: 2.0214 - accuracy: 0.2081 - val_loss: 2.0229 - val_accuracy: 0.2073\n",
            "Epoch 67/100\n",
            "1563/1563 [==============================] - 305s 195ms/step - loss: 2.0243 - accuracy: 0.2057 - val_loss: 2.0387 - val_accuracy: 0.1978\n",
            "Epoch 68/100\n",
            " 309/1563 [====>.........................] - ETA: 4:00 - loss: 2.0159 - accuracy: 0.2034"
          ]
        }
      ],
      "source": [
        "fitted_model = model.fit(x_train, y_train, validation_data=(x_test, y_test),epochs=30)"
      ]
    }
  ],
  "metadata": {
    "colab": {
      "provenance": [],
      "authorship_tag": "ABX9TyNBZqnmLdSaKodClTTrvvsO",
      "include_colab_link": true
    },
    "kernelspec": {
      "display_name": "Python 3",
      "name": "python3"
    },
    "language_info": {
      "name": "python"
    }
  },
  "nbformat": 4,
  "nbformat_minor": 0
}